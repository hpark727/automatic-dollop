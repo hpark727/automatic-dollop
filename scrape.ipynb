{
 "cells": [
  {
   "cell_type": "code",
   "execution_count": null,
   "id": "ce1ba2f7",
   "metadata": {},
   "outputs": [
    {
     "name": "stdout",
     "output_type": "stream",
     "text": [
      "    X         Filing Date Trade Date Ticker            Insider Name  \\\n",
      "0  DM 2025-07-09 20:12:54 2025-07-07   TSLA          Taneja Vaibhav   \n",
      "1   D 2025-06-16 19:59:54 2025-06-12   TSLA            Zhu Xiaotong   \n",
      "2   D 2025-06-09 19:59:00 2025-06-09   TSLA          Taneja Vaibhav   \n",
      "3  DM 2025-06-04 21:00:09 2025-06-02   TSLA          Taneja Vaibhav   \n",
      "4   D 2025-05-29 19:02:10 2025-05-27   TSLA  Ehrenpreis IRA Matthew   \n",
      "\n",
      "       Title   Trade Type   Price     Qty   Owned ΔOwn        Value  1d  1w  \\\n",
      "0        CFO  S - Sale+OE  295.26   -6000  116924   -5   -1771545.0 NaN NaN   \n",
      "1  SVP, APAC  S - Sale+OE  323.81  -15000   67600  -18   -4857105.0 NaN NaN   \n",
      "2        CFO  S - Sale+OE  285.72   -2564  115924   -2    -732573.0 NaN NaN   \n",
      "3        CFO  S - Sale+OE  342.30   -7000  112950   -6   -2396092.0 NaN NaN   \n",
      "4        Dir  S - Sale+OE  357.30 -477572  855394  -36 -170636358.0 NaN NaN   \n",
      "\n",
      "   1m  6m  \n",
      "0 NaN NaN  \n",
      "1 NaN NaN  \n",
      "2 NaN NaN  \n",
      "3 NaN NaN  \n",
      "4 NaN NaN  \n"
     ]
    }
   ],
   "source": [
    "import pandas as pd\n",
    "import numpy as np\n",
    "import yfinance as yf\n",
    "\n",
    "url = 'http://openinsider.com/screener?s=TSLA&o=&pl=&ph=&ll=&lh=&fd=730&fdr=&td=0&tdr=&fdlyl=&fdlyh=&daysago=&xp=1&xs=1&vl=&vh=&ocl=&och=&sic1=-1&sicl=100&sich=9999&grp=0&nfl=&nfh=&nil=&nih=&nol=&noh=&v2l=&v2h=&oc2l=&oc2h=&sortcol=0&cnt=100&page=1'\n",
    "\n",
    "ins_data = pd.read_html(url)\n",
    "# The 11th table contains the insider trading data\n",
    "df = ins_data[11]\n",
    "df.columns = df.columns.str.replace('\\xa0', ' ', regex=False).str.strip()  # Always do this!\n",
    "\n",
    "df['Filing Date'] = pd.to_datetime(df['Filing Date'], errors='coerce')\n",
    "df['Trade Date'] = pd.to_datetime(df['Trade Date'], errors='coerce')\n",
    "df['Value'] = df['Value'].replace({r'\\$': '', ',': ''}, regex=True).astype(float)\n",
    "df['Price'] = df['Price'].replace({r'\\$': '', ',': ''}, regex=True).astype(float)\n",
    "df['ΔOwn'] = df['ΔOwn'].str.rstrip('%')\n",
    "\n",
    "stock = yf.Ticker(df['Ticker'][0])\n"
   ]
  }
 ],
 "metadata": {
  "kernelspec": {
   "display_name": ".venv",
   "language": "python",
   "name": "python3"
  },
  "language_info": {
   "codemirror_mode": {
    "name": "ipython",
    "version": 3
   },
   "file_extension": ".py",
   "mimetype": "text/x-python",
   "name": "python",
   "nbconvert_exporter": "python",
   "pygments_lexer": "ipython3",
   "version": "3.13.3"
  }
 },
 "nbformat": 4,
 "nbformat_minor": 5
}
